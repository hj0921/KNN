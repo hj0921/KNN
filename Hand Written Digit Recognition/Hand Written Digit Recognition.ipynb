{
 "cells": [
  {
   "cell_type": "code",
   "execution_count": 7,
   "metadata": {},
   "outputs": [],
   "source": [
    "import numpy as np\n",
    "from os import listdir\n",
    "import operator"
   ]
  },
  {
   "cell_type": "markdown",
   "metadata": {},
   "source": [
    "##### Processing Functions"
   ]
  },
  {
   "cell_type": "code",
   "execution_count": 2,
   "metadata": {},
   "outputs": [],
   "source": [
    "def img2vector(filename):\n",
    "    \"\"\"\n",
    "    Assuming the input images are 32*32\n",
    "    \n",
    "    Input: the image location\n",
    "    \n",
    "    Return: the vectorized image\n",
    "    \"\"\"\n",
    "    vector = np.zeros((1, 32*32))\n",
    "    file = open(filename)\n",
    "    for i in range(32):\n",
    "        line = file.readline()\n",
    "        for j in range(32):\n",
    "            vector[0,i*32+j] = int(line[j])\n",
    "    return vector\n",
    "    "
   ]
  },
  {
   "cell_type": "code",
   "execution_count": 10,
   "metadata": {},
   "outputs": [],
   "source": [
    "def loadData(file_location):\n",
    "    # load the training images\n",
    "    FileList = listdir(file_location)\n",
    "    Mat = np.zeros((len(FileList), 32*32))\n",
    "    Labels = []\n",
    "    \n",
    "    for i in range(len(FileList)):\n",
    "        filename = file_location + FileList[i]\n",
    "        Mat[i, :] = img2vector(filename)\n",
    "        Labels.append(int(FileList[i].split('_')[0]))\n",
    "    return Mat, Labels\n"
   ]
  },
  {
   "cell_type": "markdown",
   "metadata": {},
   "source": [
    "##### KNN classifier"
   ]
  },
  {
   "cell_type": "code",
   "execution_count": 11,
   "metadata": {},
   "outputs": [],
   "source": [
    "def classify(inX, dataSet, labels, k):\n",
    "    # get the distances\n",
    "    m = dataSet.shape[0]\n",
    "    diffMat = np.tile(inX, (m, 1)) - dataSet\n",
    "    sqDiffMat = diffMat**2\n",
    "    sqDistances = sqDiffMat.sum(axis=1)\n",
    "    distances = sqDistances**0.5\n",
    "    # sort the distance\n",
    "    sortedDistIndicies = distances.argsort()\n",
    "    classCount = {}\n",
    "    for i in range(k):\n",
    "        votedLabel = labels[sortedDistIndicies[i]]\n",
    "        classCount[votedLabel] = classCount.get(votedLabel, 0) + 1\n",
    "    sortedClassCount = sorted(classCount.items(), key=operator.itemgetter(1), reverse=True)\n",
    "    \n",
    "    return sortedClassCount[0][0] # get the label of the largest voted class"
   ]
  },
  {
   "cell_type": "markdown",
   "metadata": {},
   "source": [
    "##### Hand Written Digit Recognition"
   ]
  },
  {
   "cell_type": "code",
   "execution_count": null,
   "metadata": {},
   "outputs": [],
   "source": [
    "trainMat, trainLabels = loadData('trainingDigits/')\n",
    "testMat, testLabels = loadData('testDigits/')\n",
    "\n",
    "errorCount = 0\n",
    "for i in range(len(testMat)):\n",
    "    result = classify(testMat[i,:], trainMat, trainLabels, 3)\n",
    "    #print(\"The KNN gives: %d, the real label is: %d\" % (result, testLabels[i]))\n",
    "    if result != testLabels[i]: \n",
    "        errorCount += 1\n",
    "print(\"The total number of error is: %d\" % errorCount)\n",
    "print(\"The error rate is: %f\" % (errorCount / float(len(testMat))))\n",
    "    "
   ]
  },
  {
   "cell_type": "code",
   "execution_count": null,
   "metadata": {},
   "outputs": [],
   "source": []
  },
  {
   "cell_type": "code",
   "execution_count": null,
   "metadata": {},
   "outputs": [],
   "source": []
  },
  {
   "cell_type": "code",
   "execution_count": null,
   "metadata": {},
   "outputs": [],
   "source": []
  },
  {
   "cell_type": "code",
   "execution_count": null,
   "metadata": {},
   "outputs": [],
   "source": []
  },
  {
   "cell_type": "code",
   "execution_count": null,
   "metadata": {},
   "outputs": [],
   "source": []
  }
 ],
 "metadata": {
  "kernelspec": {
   "display_name": "Python 3",
   "language": "python",
   "name": "python3"
  },
  "language_info": {
   "codemirror_mode": {
    "name": "ipython",
    "version": 3
   },
   "file_extension": ".py",
   "mimetype": "text/x-python",
   "name": "python",
   "nbconvert_exporter": "python",
   "pygments_lexer": "ipython3",
   "version": "3.6.6"
  }
 },
 "nbformat": 4,
 "nbformat_minor": 2
}
